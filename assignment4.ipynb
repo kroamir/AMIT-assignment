{
  "nbformat": 4,
  "nbformat_minor": 0,
  "metadata": {
    "colab": {
      "provenance": []
    },
    "kernelspec": {
      "name": "python3",
      "display_name": "Python 3"
    },
    "language_info": {
      "name": "python"
    }
  },
  "cells": [
    {
      "cell_type": "code",
      "execution_count": 2,
      "metadata": {
        "colab": {
          "base_uri": "https://localhost:8080/"
        },
        "id": "HPgrQNFWaBdo",
        "outputId": "d6842b50-d8f0-43ce-c3dc-8cd7a3ae43b7"
      },
      "outputs": [
        {
          "output_type": "stream",
          "name": "stdout",
          "text": [
            "0 1 1 2 3 5 8 13 21 34 55 89\n"
          ]
        }
      ],
      "source": [
        "def Fibonacci():\n",
        "  list1=[0,1]\n",
        "  n=0\n",
        "  for i in range(10):\n",
        "    n=list1[-1]+list1[-2]\n",
        "    list1.append(n)\n",
        "  print(*list1)\n",
        "Fibonacci()"
      ]
    },
    {
      "cell_type": "code",
      "source": [
        "def count_words(text):\n",
        "  fulltext=\" \".join(text)\n",
        "  words=fulltext.lower().split()\n",
        "  word_count={}\n",
        "  for word in words:\n",
        "    if word in word_count:\n",
        "      word_count[word] += 1\n",
        "    else:\n",
        "      word_count[word]=1\n",
        "  for word ,count in word_count.items():\n",
        "    print(f\"'{word}':{count}\")\n",
        "  return word_count\n",
        "strings=[ \"hello every body\",\n",
        "           \"hello amit\",\n",
        "         \"hello eng mohamed atef\",\n",
        "]\n",
        "x=count_words(strings)\n"
      ],
      "metadata": {
        "id": "2VUCJRWhwOqF",
        "colab": {
          "base_uri": "https://localhost:8080/"
        },
        "outputId": "366d5797-614b-4148-94ae-5870ce586c10"
      },
      "execution_count": 1,
      "outputs": [
        {
          "output_type": "stream",
          "name": "stdout",
          "text": [
            "'hello':3\n",
            "'every':1\n",
            "'body':1\n",
            "'amit':1\n",
            "'eng':1\n",
            "'mohamed':1\n",
            "'atef':1\n"
          ]
        }
      ]
    },
    {
      "cell_type": "code",
      "source": [
        "def find_pairs(number,targrt):\n",
        "  x=[]\n",
        "  for i in number:\n",
        "    for j in number:\n",
        "     a=i+j\n",
        "     if a==targrt:\n",
        "      tup=(i,j)\n",
        "      x.append(tup)\n",
        "  return x\n",
        "number=[1,2,3,4,5,6,7,8]\n",
        "target=8\n",
        "find_pairs(number,target)\n"
      ],
      "metadata": {
        "colab": {
          "base_uri": "https://localhost:8080/"
        },
        "id": "lfzUaCEwyzP8",
        "outputId": "b15516de-e0c1-4436-aaca-28da2a6a6175"
      },
      "execution_count": 3,
      "outputs": [
        {
          "output_type": "execute_result",
          "data": {
            "text/plain": [
              "[(1, 7), (2, 6), (3, 5), (4, 4), (5, 3), (6, 2), (7, 1)]"
            ]
          },
          "metadata": {},
          "execution_count": 3
        }
      ]
    },
    {
      "cell_type": "code",
      "source": [
        "def maxi(number):\n",
        "    x=number.sort()\n",
        "    return number[-2],number[-1]\n",
        "number=[1,2,5,5,4,4,5,8,9]\n",
        "maxi(number)"
      ],
      "metadata": {
        "colab": {
          "base_uri": "https://localhost:8080/"
        },
        "id": "h6VHjRpLzzEC",
        "outputId": "65819954-1a88-46d6-80ea-a92a3fa6884b"
      },
      "execution_count": 4,
      "outputs": [
        {
          "output_type": "execute_result",
          "data": {
            "text/plain": [
              "(8, 9)"
            ]
          },
          "metadata": {},
          "execution_count": 4
        }
      ]
    },
    {
      "cell_type": "code",
      "source": [
        "def prime(num):\n",
        "  if num<2:\n",
        "    print(\"not prime\")\n",
        "  elif num==2:\n",
        "    print(\"prime\")\n",
        "  else:\n",
        "    for i in range(2,num):\n",
        "      if num%i==0:\n",
        "        print(\"not prime\")\n",
        "        break\n",
        "    else:\n",
        "      print(\"prime\")\n",
        "prime(8)"
      ],
      "metadata": {
        "colab": {
          "base_uri": "https://localhost:8080/"
        },
        "id": "EsxRnbSYJuLw",
        "outputId": "b8f8768c-90f3-4146-a206-74825efa102c"
      },
      "execution_count": 2,
      "outputs": [
        {
          "output_type": "stream",
          "name": "stdout",
          "text": [
            "not prime\n"
          ]
        }
      ]
    },
    {
      "cell_type": "code",
      "source": [
        "def Even(list):\n",
        "  for i in list:\n",
        "    if i%2==0:\n",
        "      print(i)\n",
        "    else:\n",
        "      pass\n",
        "list=[1,2,3,4,5,6,7,8,9]\n",
        "Even(list)"
      ],
      "metadata": {
        "colab": {
          "base_uri": "https://localhost:8080/"
        },
        "id": "X2BgX1kjcs7A",
        "outputId": "8a0dcd70-c2be-4232-f338-7339027d3484"
      },
      "execution_count": 1,
      "outputs": [
        {
          "output_type": "stream",
          "name": "stdout",
          "text": [
            "2\n",
            "4\n",
            "6\n",
            "8\n"
          ]
        }
      ]
    },
    {
      "cell_type": "code",
      "source": [
        "def Rev(String):\n",
        "  print(String[::-1])\n",
        "strings = \"hello world\"\n",
        "Rev(strings)"
      ],
      "metadata": {
        "colab": {
          "base_uri": "https://localhost:8080/"
        },
        "id": "PPr5UhbxdTOe",
        "outputId": "ea31156c-be07-42bd-e240-bcd3b6cdee7e"
      },
      "execution_count": 14,
      "outputs": [
        {
          "output_type": "stream",
          "name": "stdout",
          "text": [
            "dlrow olleh\n"
          ]
        }
      ]
    },
    {
      "cell_type": "code",
      "source": [
        "def Pail(num):\n",
        "  if str(num)==str(num)[::-1]:\n",
        "    print(\"true\")\n",
        "  else:\n",
        "    print(\"false\")\n",
        "num=121\n",
        "Pail(num)\n",
        "\n"
      ],
      "metadata": {
        "colab": {
          "base_uri": "https://localhost:8080/"
        },
        "id": "8l5qWgHde33b",
        "outputId": "4d41340c-282b-4f68-bffc-2436161fd710"
      },
      "execution_count": 18,
      "outputs": [
        {
          "output_type": "stream",
          "name": "stdout",
          "text": [
            "true\n"
          ]
        }
      ]
    },
    {
      "source": [
        "def PailStr(string):\n",
        "  if string==string[::-1]:\n",
        "    print(\"true\")\n",
        "  else:\n",
        "    print(\"false\")\n",
        "string=\"level\"\n",
        "PailStr(string)"
      ],
      "cell_type": "code",
      "metadata": {
        "colab": {
          "base_uri": "https://localhost:8080/"
        },
        "id": "CyVtYQpqlWwJ",
        "outputId": "4f13dda6-705d-46fe-a206-84369888827d"
      },
      "execution_count": 26,
      "outputs": [
        {
          "output_type": "stream",
          "name": "stdout",
          "text": [
            "true\n"
          ]
        }
      ]
    },
    {
      "cell_type": "code",
      "source": [
        "def Squares_List():\n",
        "  squars = [i**2 for i in range(1, 31)]\n",
        "  print(squars)\n",
        "Squares_List()"
      ],
      "metadata": {
        "colab": {
          "base_uri": "https://localhost:8080/"
        },
        "id": "NurkLv98p-_5",
        "outputId": "125a0aa6-55f9-4033-a8fb-741cad806d01"
      },
      "execution_count": 29,
      "outputs": [
        {
          "output_type": "stream",
          "name": "stdout",
          "text": [
            "[1, 4, 9, 16, 25, 36, 49, 64, 81, 100, 121, 144, 169, 196, 225, 256, 289, 324, 361, 400, 441, 484, 529, 576, 625, 676, 729, 784, 841, 900]\n"
          ]
        }
      ]
    }
  ]
}