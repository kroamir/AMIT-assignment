{
  "nbformat": 4,
  "nbformat_minor": 0,
  "metadata": {
    "colab": {
      "provenance": []
    },
    "kernelspec": {
      "name": "python3",
      "display_name": "Python 3"
    },
    "language_info": {
      "name": "python"
    }
  },
  "cells": [
    {
      "cell_type": "markdown",
      "source": [
        "**Tuple**\n",
        "\n",
        "\n",
        "\n"
      ],
      "metadata": {
        "id": "bgceiY--pEtC"
      }
    },
    {
      "cell_type": "code",
      "execution_count": null,
      "metadata": {
        "colab": {
          "base_uri": "https://localhost:8080/"
        },
        "id": "GkW4erbs3Iic",
        "outputId": "4e5160f0-0f9a-4d4e-bc4e-f43990fd9253"
      },
      "outputs": [
        {
          "output_type": "stream",
          "name": "stdout",
          "text": [
            "30\n"
          ]
        }
      ],
      "source": [
        "numbers = (10, 20, 30, 40, 50)\n",
        "print(numbers[2])"
      ]
    },
    {
      "cell_type": "code",
      "source": [
        "fruits = (\"apple\", \"banana\", \"cherry\")\n",
        "(red , blue , green)=fruits\n",
        "print(red)\n",
        "print(blue)\n",
        "print(green)"
      ],
      "metadata": {
        "id": "WZKb4kz93f2T",
        "colab": {
          "base_uri": "https://localhost:8080/"
        },
        "outputId": "96d48db7-3329-4795-82cc-eb3a9c74e62f"
      },
      "execution_count": null,
      "outputs": [
        {
          "output_type": "stream",
          "name": "stdout",
          "text": [
            "apple\n",
            "banana\n",
            "cherry\n"
          ]
        }
      ]
    },
    {
      "cell_type": "code",
      "source": [
        "fruits = (\"apple\", \"banana\", \"cherry\",\"kiwi\")\n",
        "item=\"orange\"\n",
        "Nfruits=fruits[:2]+(item,)+fruits[2:]\n",
        "print(Nfruits)\n",
        "\n",
        "#OR\n",
        "fruits = (\"apple\", \"banana\", \"cherry\",\"kiwi\")\n",
        "y=list(fruits)\n",
        "y.insert(3,\"orange\")\n",
        "fruits=tuple(y)\n",
        "print(fruits)\n",
        "\n"
      ],
      "metadata": {
        "colab": {
          "base_uri": "https://localhost:8080/"
        },
        "id": "Sd4ax_0bX0J4",
        "outputId": "f401a18f-01c4-436a-cda5-9e05b9088cf8"
      },
      "execution_count": null,
      "outputs": [
        {
          "output_type": "stream",
          "name": "stdout",
          "text": [
            "('apple', 'banana', 'orange', 'cherry', 'kiwi')\n",
            "('apple', 'banana', 'cherry', 'orange', 'kiwi')\n"
          ]
        }
      ]
    },
    {
      "cell_type": "code",
      "source": [
        "N=('e', 'x', 'e', 'r', 'c', 'i', 's', 'e', 's')\n",
        "x=\"\".join(N)\n",
        "print(x)"
      ],
      "metadata": {
        "colab": {
          "base_uri": "https://localhost:8080/"
        },
        "id": "62SYTQqvhEan",
        "outputId": "ba17a15b-c404-4945-cded-995cdb47b6f1"
      },
      "execution_count": null,
      "outputs": [
        {
          "output_type": "stream",
          "name": "stdout",
          "text": [
            "exercises\n"
          ]
        }
      ]
    },
    {
      "cell_type": "code",
      "source": [
        "l=[]\n",
        "Tuple1=(1,2,12,1,2,58,5,2,2,5,4,7)\n",
        "for i in Tuple1:\n",
        "    if Tuple1.count(i)>1 and i not in l:\n",
        "        l.append(i)\n",
        "print(l)"
      ],
      "metadata": {
        "colab": {
          "base_uri": "https://localhost:8080/"
        },
        "id": "mjvnv-4Dk_ut",
        "outputId": "7ff596fd-dafe-4b21-bdc0-dbcf2b917edc"
      },
      "execution_count": null,
      "outputs": [
        {
          "output_type": "stream",
          "name": "stdout",
          "text": [
            "[1, 2, 5]\n"
          ]
        }
      ]
    },
    {
      "cell_type": "code",
      "source": [
        "x=(\"k\",\"i\",\"r\",\"o\")\n",
        "y=list(x)\n",
        "y.remove(\"k\")\n",
        "x=tuple(y)\n",
        "print(x)"
      ],
      "metadata": {
        "colab": {
          "base_uri": "https://localhost:8080/"
        },
        "id": "xv7X30FGwmq_",
        "outputId": "ffb7999b-a95c-446c-9d79-476d781a8bc4"
      },
      "execution_count": null,
      "outputs": [
        {
          "output_type": "stream",
          "name": "stdout",
          "text": [
            "('i', 'r', 'o')\n"
          ]
        }
      ]
    },
    {
      "cell_type": "code",
      "source": [
        "x=(\"k\",\"i\",\"r\",\"o\")\n",
        "y=list(x)\n",
        "y.reverse()\n",
        "x=tuple(y)\n",
        "print(x)"
      ],
      "metadata": {
        "colab": {
          "base_uri": "https://localhost:8080/"
        },
        "id": "RBZ0gABCPMMR",
        "outputId": "fc246599-a5a1-4b83-8554-aa64faeb6271"
      },
      "execution_count": null,
      "outputs": [
        {
          "output_type": "stream",
          "name": "stdout",
          "text": [
            "('o', 'r', 'i', 'k')\n"
          ]
        }
      ]
    },
    {
      "cell_type": "code",
      "source": [
        "N=[(\"k\",\"I\",\"r\",\"o\"),(\"a\",\"m\",\"i\",\"r\"),(\"a\",\"m\",\"i\",\"n\")]\n",
        "nvalue=\"l\"\n",
        "x=[]\n",
        "for t in N:\n",
        "  m=t[0:-1]+(nvalue,)\n",
        "  x.append(m)\n",
        "print(x)\n",
        "\n",
        "\n"
      ],
      "metadata": {
        "id": "ASq2toz-PjvQ",
        "colab": {
          "base_uri": "https://localhost:8080/"
        },
        "outputId": "c1725061-c090-488a-ee49-6c78176d9493"
      },
      "execution_count": null,
      "outputs": [
        {
          "output_type": "stream",
          "name": "stdout",
          "text": [
            "[('k', 'I', 'r', 'l'), ('a', 'm', 'i', 'l'), ('a', 'm', 'i', 'l')]\n"
          ]
        }
      ]
    },
    {
      "cell_type": "markdown",
      "source": [
        "**List**"
      ],
      "metadata": {
        "id": "xYogL1wv0THi"
      }
    },
    {
      "cell_type": "code",
      "source": [
        "F=[\"apple\",\"banana\",\"watermelon\"]\n",
        "F.append(\"mango\")\n",
        "print(F)"
      ],
      "metadata": {
        "colab": {
          "base_uri": "https://localhost:8080/"
        },
        "id": "M8H_tBBL6FMk",
        "outputId": "27087294-5904-47ae-aff2-3b9660d2a718"
      },
      "execution_count": null,
      "outputs": [
        {
          "output_type": "stream",
          "name": "stdout",
          "text": [
            "['apple', 'banana', 'watermelon', 'mango']\n"
          ]
        }
      ]
    },
    {
      "cell_type": "code",
      "source": [
        "g=[1,2,3,4,5]\n",
        "k=[6,7,8,9,10]\n",
        "g.extend(k)\n",
        "print(g)\n"
      ],
      "metadata": {
        "colab": {
          "base_uri": "https://localhost:8080/"
        },
        "id": "B-q73cGs6sqg",
        "outputId": "a14c317b-91a7-46b2-fd57-501419d5e447"
      },
      "execution_count": null,
      "outputs": [
        {
          "output_type": "stream",
          "name": "stdout",
          "text": [
            "[1, 2, 3, 4, 5, 6, 7, 8, 9, 10]\n"
          ]
        }
      ]
    },
    {
      "cell_type": "code",
      "source": [
        "colors = [\"Red\", \"Blue\", \"Green\", \"Yellow\", \"Purple\"]\n",
        "colors.insert(1,\"orange\")\n",
        "print(colors)\n"
      ],
      "metadata": {
        "colab": {
          "base_uri": "https://localhost:8080/"
        },
        "id": "SKpuvueI-E4g",
        "outputId": "121f8049-177a-411f-d69d-57fdd77b3aff"
      },
      "execution_count": null,
      "outputs": [
        {
          "output_type": "stream",
          "name": "stdout",
          "text": [
            "['Red', 'orange', 'Blue', 'Green', 'Yellow', 'Purple']\n"
          ]
        }
      ]
    },
    {
      "cell_type": "code",
      "source": [
        "cities = [\"New York\", \"Tokyo\",\"Paris\",\"London\",\"Tokyo\",\"Sydney\",\"Paris\"]\n",
        "cities.remove(\"Tokyo\")\n",
        "print(cities)"
      ],
      "metadata": {
        "id": "FyVOkJA7MHay",
        "colab": {
          "base_uri": "https://localhost:8080/"
        },
        "outputId": "3887fa8d-2bed-425b-f0d6-55f1832d5ef4"
      },
      "execution_count": null,
      "outputs": [
        {
          "output_type": "stream",
          "name": "stdout",
          "text": [
            "['New York', 'Paris', 'London', 'Tokyo', 'Sydney', 'Paris']\n"
          ]
        }
      ]
    },
    {
      "cell_type": "code",
      "source": [
        "fanimals = [\"Dog\", \"Cat\", \"Elephant\", \"Tiger\", \"Dolphin\"]\n",
        "x = fanimals.pop(2)\n",
        "\n",
        "print(\"Removed animal:\", x)\n",
        "print(\"Updated list:\", fanimals)"
      ],
      "metadata": {
        "colab": {
          "base_uri": "https://localhost:8080/"
        },
        "id": "uU60l4o2mzfb",
        "outputId": "d80f1567-766a-4847-e6da-cd0932dbfc4b"
      },
      "execution_count": null,
      "outputs": [
        {
          "output_type": "stream",
          "name": "stdout",
          "text": [
            "Removed animal: Elephant\n",
            "Updated list: ['Dog', 'Cat', 'Tiger', 'Dolphin']\n"
          ]
        }
      ]
    },
    {
      "cell_type": "code",
      "source": [
        "numbers = [5, 12, 7, 23, 18, 9]\n",
        "numbers.clear()\n",
        "print(numbers)"
      ],
      "metadata": {
        "colab": {
          "base_uri": "https://localhost:8080/"
        },
        "id": "0Q8eHr7LzSDF",
        "outputId": "3fb9b73e-86c0-41ab-d7b6-247c8031c534"
      },
      "execution_count": null,
      "outputs": [
        {
          "output_type": "stream",
          "name": "stdout",
          "text": [
            "[]\n"
          ]
        }
      ]
    },
    {
      "cell_type": "markdown",
      "source": [
        "**dictionary**"
      ],
      "metadata": {
        "id": "cyu4Nf74XlUv"
      }
    },
    {
      "cell_type": "code",
      "source": [
        "city={\"Egypt\":\"cairo\",\n",
        "      \"italia\":\"roma\",\n",
        "      \"usa\":\"washington\"}\n",
        "x=city.get(\"france\",\"paris\")\n",
        "print(x)"
      ],
      "metadata": {
        "colab": {
          "base_uri": "https://localhost:8080/"
        },
        "id": "pHlaK-Zi0gHT",
        "outputId": "8c12db39-0fa1-4622-faf2-133f90320dd5"
      },
      "execution_count": null,
      "outputs": [
        {
          "output_type": "stream",
          "name": "stdout",
          "text": [
            "paris\n"
          ]
        }
      ]
    },
    {
      "cell_type": "code",
      "source": [
        "populang={\n",
        "    \"Python\": [\"Django\", \"Flask\", \"Pyramid\"],\n",
        "    \"JavaScript\": [\"React\", \"Angular\", \"Vue.js\"],\n",
        "    \"Java\": [\"Spring\", \"Hibernate\", \"Struts\"],\n",
        "    \"C#\": [\".NET Framework\", \".NET Core\", \"Xamarin\"],\n",
        "    \"PHP\": [\"Laravel\", \"Symfony\", \"CodeIgniter\"],\n",
        "    \"Ruby\": [\"Ruby on Rails\", \"Sinatra\", \"Padrino\"]\n",
        "}\n",
        "x=populang.keys()\n",
        "print(x)"
      ],
      "metadata": {
        "id": "e0nxSaYjWxYc",
        "colab": {
          "base_uri": "https://localhost:8080/"
        },
        "outputId": "9b83144d-b2b7-4296-a0a7-be9f933223fa"
      },
      "execution_count": null,
      "outputs": [
        {
          "output_type": "stream",
          "name": "stdout",
          "text": [
            "dict_keys(['Python', 'JavaScript', 'Java', 'C#', 'PHP', 'Ruby'])\n"
          ]
        }
      ]
    },
    {
      "cell_type": "code",
      "source": [
        "populang={\n",
        "    \"Python\": [\"Django\", \"Flask\", \"Pyramid\"],\n",
        "    \"JavaScript\": [\"React\", \"Angular\", \"Vue.js\"],\n",
        "    \"Java\": [\"Spring\", \"Hibernate\", \"Struts\"],\n",
        "    \"C#\": [\".NET Framework\", \".NET Core\", \"Xamarin\"],\n",
        "    \"PHP\": [\"Laravel\", \"Symfony\", \"CodeIgniter\"],\n",
        "    \"Ruby\": [\"Ruby on Rails\", \"Sinatra\", \"Padrino\"]\n",
        "}\n",
        "x=populang.values()\n",
        "print(x)"
      ],
      "metadata": {
        "colab": {
          "base_uri": "https://localhost:8080/"
        },
        "id": "gOXh6Yi2Q9-W",
        "outputId": "04386c99-32e6-460e-8b82-7cfb1c19e8d4"
      },
      "execution_count": null,
      "outputs": [
        {
          "output_type": "stream",
          "name": "stdout",
          "text": [
            "dict_values([['Django', 'Flask', 'Pyramid'], ['React', 'Angular', 'Vue.js'], ['Spring', 'Hibernate', 'Struts'], ['.NET Framework', '.NET Core', 'Xamarin'], ['Laravel', 'Symfony', 'CodeIgniter'], ['Ruby on Rails', 'Sinatra', 'Padrino']])\n"
          ]
        }
      ]
    },
    {
      "cell_type": "code",
      "source": [
        "dct1 = {\"pen\":12,\"notebook\":25,\"pencil\":15}\n",
        "x=dct1.items()\n",
        "print (x)"
      ],
      "metadata": {
        "colab": {
          "base_uri": "https://localhost:8080/"
        },
        "id": "21VYzACYS79o",
        "outputId": "82a6bed0-3fb2-43e4-8796-18ec23028658"
      },
      "execution_count": null,
      "outputs": [
        {
          "output_type": "stream",
          "name": "stdout",
          "text": [
            "dict_items([('pen', 12), ('notebook', 25), ('pencil', 15)])\n"
          ]
        }
      ]
    },
    {
      "cell_type": "code",
      "source": [
        "myinf={\n",
        "    \"name\":\"kiro\",\n",
        "    \"age\":\"20\",\n",
        "    \"country\":\"Egypt\"\n",
        "}\n",
        "myinf.update({\n",
        "    \"city\":\"aswan\"\n",
        "})\n",
        "print(myinf)\n"
      ],
      "metadata": {
        "colab": {
          "base_uri": "https://localhost:8080/"
        },
        "id": "GmV1ImnzTsa8",
        "outputId": "8ee7fbeb-c21d-47c3-eac8-b098a285e6e1"
      },
      "execution_count": null,
      "outputs": [
        {
          "output_type": "stream",
          "name": "stdout",
          "text": [
            "{'name': 'kiro', 'age': '20', 'country': 'Egypt', 'city': 'aswan'}\n"
          ]
        }
      ]
    },
    {
      "cell_type": "code",
      "source": [
        "students={\n",
        "    \"kiro\":20,\n",
        "    \"andrew\":19,\n",
        "    \"marawan\":22,\n",
        "    \"ahmed\":23,\n",
        "    \"besho\":20\n",
        "}\n",
        "students.pop(\"kiro\")\n",
        "print(students)"
      ],
      "metadata": {
        "colab": {
          "base_uri": "https://localhost:8080/"
        },
        "id": "FYgreCvyWdKZ",
        "outputId": "6140c82d-5ed1-4e18-85c4-3828871d5372"
      },
      "execution_count": null,
      "outputs": [
        {
          "output_type": "stream",
          "name": "stdout",
          "text": [
            "{'andrew': 19, 'marawan': 22, 'ahmed': 23, 'besho': 20}\n"
          ]
        }
      ]
    },
    {
      "cell_type": "code",
      "source": [
        "students={\n",
        "    \"kiro\":20,\n",
        "    \"andrew\":19,\n",
        "    \"marawan\":22,\n",
        "    \"ahmed\":23,\n",
        "    \"besho\":20\n",
        "}\n",
        "students.clear()\n",
        "print(students)"
      ],
      "metadata": {
        "colab": {
          "base_uri": "https://localhost:8080/"
        },
        "id": "--3V6bHiXIwk",
        "outputId": "a37b8ba5-88fd-41bb-88b7-f2a9724d2a34"
      },
      "execution_count": null,
      "outputs": [
        {
          "output_type": "stream",
          "name": "stdout",
          "text": [
            "{}\n"
          ]
        }
      ]
    }
  ]
}