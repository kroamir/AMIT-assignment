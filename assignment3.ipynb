{
  "nbformat": 4,
  "nbformat_minor": 0,
  "metadata": {
    "colab": {
      "provenance": []
    },
    "kernelspec": {
      "name": "python3",
      "display_name": "Python 3"
    },
    "language_info": {
      "name": "python"
    }
  },
  "cells": [
    {
      "cell_type": "code",
      "execution_count": null,
      "metadata": {
        "colab": {
          "base_uri": "https://localhost:8080/"
        },
        "id": "OJCG12JinDmr",
        "outputId": "30d65319-24dd-4e96-b208-43f2cbd76003"
      },
      "outputs": [
        {
          "output_type": "stream",
          "name": "stdout",
          "text": [
            "('kiro', 'amir', 'kiro', 'amin')\n"
          ]
        }
      ],
      "source": [
        "tup=(\"kiro\",\"amir\",\"kiro\")\n",
        "tup+=(\"amin\",)\n",
        "print(tup)"
      ]
    },
    {
      "cell_type": "code",
      "source": [
        "l=[1,2,3,4,5,4,5,4,1,5,1,5,2]\n",
        "print(sum(l))"
      ],
      "metadata": {
        "colab": {
          "base_uri": "https://localhost:8080/"
        },
        "id": "mY0MeAAoojJL",
        "outputId": "3cd6c2c9-921d-4247-8f49-42613eb11be1"
      },
      "execution_count": null,
      "outputs": [
        {
          "output_type": "stream",
          "name": "stdout",
          "text": [
            "42\n"
          ]
        }
      ]
    },
    {
      "cell_type": "code",
      "source": [
        "x=[1,2,3,4,5,6]\n",
        "y=1\n",
        "for i in x:\n",
        "  y*=i\n",
        "print(y)"
      ],
      "metadata": {
        "colab": {
          "base_uri": "https://localhost:8080/"
        },
        "id": "EMUouZ8Ko2m1",
        "outputId": "5c274109-86ed-470e-cb8f-556eb6994fd2"
      },
      "execution_count": null,
      "outputs": [
        {
          "output_type": "stream",
          "name": "stdout",
          "text": [
            "720\n"
          ]
        }
      ]
    },
    {
      "cell_type": "code",
      "source": [
        "l=[1,2,3,4,5,4,5,4,1,5,1,5,2]\n",
        "print(min(l))"
      ],
      "metadata": {
        "colab": {
          "base_uri": "https://localhost:8080/"
        },
        "id": "RprHt_xVryF-",
        "outputId": "1d38418a-7ca6-4ad5-a005-e50baea1c9b7"
      },
      "execution_count": null,
      "outputs": [
        {
          "output_type": "stream",
          "name": "stdout",
          "text": [
            "1\n"
          ]
        }
      ]
    },
    {
      "cell_type": "code",
      "source": [
        "l=[1,2,3,4,5,4,5,4,1,5,1,5,2]\n",
        "print(max(l))"
      ],
      "metadata": {
        "colab": {
          "base_uri": "https://localhost:8080/"
        },
        "id": "orFJZiqdsmz0",
        "outputId": "b1d233f9-55ea-4a6f-8ec1-f4fa93ab7839"
      },
      "execution_count": null,
      "outputs": [
        {
          "output_type": "stream",
          "name": "stdout",
          "text": [
            "5\n"
          ]
        }
      ]
    },
    {
      "cell_type": "code",
      "source": [
        "count=0\n",
        "x=[1,\"kiro\",2,\"amir\",5,\"amin\",6]\n",
        "for i in x:\n",
        "  if type(i)==str:\n",
        "   count+=1\n",
        "print(count)\n"
      ],
      "metadata": {
        "colab": {
          "base_uri": "https://localhost:8080/"
        },
        "id": "UjMFejdVstHv",
        "outputId": "bab5e5ab-45da-4705-b886-3240f68b3c1a"
      },
      "execution_count": null,
      "outputs": [
        {
          "output_type": "stream",
          "name": "stdout",
          "text": [
            "3\n"
          ]
        }
      ]
    },
    {
      "cell_type": "code",
      "source": [
        "l=[1,2,3,4,5,4,5,4,1,5,1,5,2]\n",
        "x=l.copy()\n",
        "print(x)"
      ],
      "metadata": {
        "colab": {
          "base_uri": "https://localhost:8080/"
        },
        "id": "KDMUpxsH01Pp",
        "outputId": "b8948fd6-54f5-4382-b4f2-35b925ea5151"
      },
      "execution_count": null,
      "outputs": [
        {
          "output_type": "stream",
          "name": "stdout",
          "text": [
            "[1, 2, 3, 4, 5, 4, 5, 4, 1, 5, 1, 5, 2]\n"
          ]
        }
      ]
    },
    {
      "cell_type": "code",
      "source": [
        "myset = {1, 2, 3, 4, 5}\n",
        "myset.difference_update({2, 4})\n",
        "print(myset)\n",
        "#difference_update() can remove one element or more i research from it in w3schools"
      ],
      "metadata": {
        "colab": {
          "base_uri": "https://localhost:8080/"
        },
        "id": "SvPm12RIHhK5",
        "outputId": "eba7e1a3-958b-4c16-e4e8-424e63cc7a9a"
      },
      "execution_count": null,
      "outputs": [
        {
          "output_type": "stream",
          "name": "stdout",
          "text": [
            "{1, 3, 5}\n"
          ]
        }
      ]
    },
    {
      "cell_type": "code",
      "source": [
        "myset = {1, 2, 3, 4, 5}\n",
        "print(2 in myset)"
      ],
      "metadata": {
        "colab": {
          "base_uri": "https://localhost:8080/"
        },
        "id": "_FYizpnPKR9B",
        "outputId": "90e8466e-677e-446d-daa3-c7eef0fe4a7d"
      },
      "execution_count": null,
      "outputs": [
        {
          "output_type": "stream",
          "name": "stdout",
          "text": [
            "True\n"
          ]
        }
      ]
    },
    {
      "cell_type": "code",
      "source": [
        "myset = {1, 2, 3, 4, 5}\n",
        "myset.clear()\n",
        "print(myset)\n"
      ],
      "metadata": {
        "colab": {
          "base_uri": "https://localhost:8080/"
        },
        "id": "rS8A_VTUN7qa",
        "outputId": "d5a4b00a-5895-49d4-cbc3-56c26133307e"
      },
      "execution_count": null,
      "outputs": [
        {
          "output_type": "stream",
          "name": "stdout",
          "text": [
            "set()\n"
          ]
        }
      ]
    },
    {
      "cell_type": "code",
      "source": [
        "myset = {1, 2, 3, 4, 5}\n",
        "print(max(myset))\n",
        "print(min(myset))"
      ],
      "metadata": {
        "colab": {
          "base_uri": "https://localhost:8080/"
        },
        "id": "Z5XgdBiEOYJy",
        "outputId": "ead44947-a049-42de-b455-37e4c1a0b9f5"
      },
      "execution_count": null,
      "outputs": [
        {
          "output_type": "stream",
          "name": "stdout",
          "text": [
            "5\n",
            "1\n"
          ]
        }
      ]
    },
    {
      "cell_type": "code",
      "source": [
        "mytup = (1, 2, 3, 4, 5)\n",
        "x = mytup.index(2)\n",
        "print(x)"
      ],
      "metadata": {
        "colab": {
          "base_uri": "https://localhost:8080/"
        },
        "id": "tgBb_H64TVHt",
        "outputId": "aad2f661-bb9e-4c93-b496-b046db6eda81"
      },
      "execution_count": null,
      "outputs": [
        {
          "output_type": "stream",
          "name": "stdout",
          "text": [
            "1\n"
          ]
        }
      ]
    },
    {
      "cell_type": "code",
      "source": [
        "mytup = (1, 2, 3, 4, 5)\n",
        "x=dict.fromkeys(mytup)\n",
        "print(x)\n",
        "\n",
        "#if we want add value we do this\n",
        "mytup = (1, 2, 3, 4, 5)\n",
        "x=dict.fromkeys(mytup,5)\n",
        "print(x)\n"
      ],
      "metadata": {
        "colab": {
          "base_uri": "https://localhost:8080/"
        },
        "id": "S-nUos11b0E9",
        "outputId": "e2d607eb-423b-4bfe-e45e-0ab0adb76f92"
      },
      "execution_count": null,
      "outputs": [
        {
          "output_type": "stream",
          "name": "stdout",
          "text": [
            "{1: None, 2: None, 3: None, 4: None, 5: None}\n",
            "{1: 5, 2: 5, 3: 5, 4: 5, 5: 5}\n"
          ]
        }
      ]
    },
    {
      "cell_type": "code",
      "source": [
        "tupleslist = [(1, 'a'), (2, 'b'), (3, 'c')]\n",
        "list1, list2 = zip(*tupleslist) #to unzip\n",
        "\n",
        "\n",
        "list1 = list(list1)\n",
        "list2 = list(list2)\n",
        "\n",
        "\n",
        "print(\"List 1:\", list1)\n",
        "print(\"List 2:\", list2)"
      ],
      "metadata": {
        "id": "MmECkZ2pyE9W",
        "colab": {
          "base_uri": "https://localhost:8080/"
        },
        "outputId": "9c0fe908-dc47-4a43-a403-cf77891f4a4f"
      },
      "execution_count": 48,
      "outputs": [
        {
          "output_type": "stream",
          "name": "stdout",
          "text": [
            "List 1: [1, 2, 3]\n",
            "List 2: ['a', 'b', 'c']\n"
          ]
        }
      ]
    },
    {
      "cell_type": "code",
      "source": [
        "x=(\"k\",\"i\",\"r\",\"o\")\n",
        "y=list(x)\n",
        "y.reverse()\n",
        "x=tuple(y)\n",
        "print(x)"
      ],
      "metadata": {
        "colab": {
          "base_uri": "https://localhost:8080/"
        },
        "id": "He9CkJBw38ui",
        "outputId": "a563284b-6417-4b08-9fb8-789b6e717986"
      },
      "execution_count": 50,
      "outputs": [
        {
          "output_type": "stream",
          "name": "stdout",
          "text": [
            "('o', 'r', 'i', 'k')\n"
          ]
        }
      ]
    },
    {
      "cell_type": "code",
      "source": [
        "tupleslist = [(1, 'a'), (2, 'b'), (3, 'c')]\n",
        "x=dict(tupleslist)\n",
        "print(x)\n"
      ],
      "metadata": {
        "colab": {
          "base_uri": "https://localhost:8080/"
        },
        "id": "PvZJI2lc3-jP",
        "outputId": "430d114a-d25b-49a1-b999-639661c40ac5"
      },
      "execution_count": 52,
      "outputs": [
        {
          "output_type": "stream",
          "name": "stdout",
          "text": [
            "{1: 'a', 2: 'b', 3: 'c'}\n"
          ]
        }
      ]
    },
    {
      "cell_type": "code",
      "source": [
        "N=[(\"k\",\"I\",\"r\",\"o\"),(\"a\",\"m\",\"i\",\"r\"),(\"a\",\"m\",\"i\",\"n\")]\n",
        "nvalue=\"l\"\n",
        "x=[]\n",
        "for t in N:\n",
        "  m=t[0:-1]+(nvalue,)\n",
        "  x.append(m)\n",
        "print(x)"
      ],
      "metadata": {
        "colab": {
          "base_uri": "https://localhost:8080/"
        },
        "id": "CR_Qrnrk4gRQ",
        "outputId": "0ea7ed85-80a5-46f5-9a15-822c5f92f52d"
      },
      "execution_count": 53,
      "outputs": [
        {
          "output_type": "stream",
          "name": "stdout",
          "text": [
            "[('k', 'I', 'r', 'l'), ('a', 'm', 'i', 'l'), ('a', 'm', 'i', 'l')]\n"
          ]
        }
      ]
    },
    {
      "cell_type": "code",
      "source": [
        "tuple_data = ((1, 2.3), (2, 1.7), (3, 4.5), (4, 0.9))\n",
        "stuple = tuple(sorted(tuple_data, key=lambda x: x[1]))\n",
        "print(stuple)"
      ],
      "metadata": {
        "colab": {
          "base_uri": "https://localhost:8080/"
        },
        "id": "YuicKL_0Cpf4",
        "outputId": "c9bd69e4-d6d6-4ade-b1b6-e1900af653ad"
      },
      "execution_count": 66,
      "outputs": [
        {
          "output_type": "stream",
          "name": "stdout",
          "text": [
            "((4, 0.9), (2, 1.7), (1, 2.3), (3, 4.5))\n"
          ]
        }
      ]
    }
  ]
}